{
 "cells": [
  {
   "cell_type": "code",
   "execution_count": 1,
   "id": "899d75e3",
   "metadata": {},
   "outputs": [],
   "source": [
    "import pandas as pd\n",
    "import datetime\n",
    "import psycopg2"
   ]
  },
  {
   "cell_type": "code",
   "execution_count": null,
   "id": "239c1b41",
   "metadata": {},
   "outputs": [],
   "source": [
    "df_record = pd.read_csv(\"s3://applehealthdashboard/etl/extract/exportRecord.csv\")\n",
    "df_workout = pd.read_csv(\"s3://applehealthdashboard/etl/extract/exportWorkout.csv\")\n",
    "df_summary = pd.read_csv(\"s3://applehealthdashboard/etl/extract/exportActivitySummary.csv\")"
   ]
  },
  {
   "cell_type": "code",
   "execution_count": 2,
   "id": "c041868f",
   "metadata": {},
   "outputs": [],
   "source": [
    "fact_table = pd.read_csv(\"s3://applehealthdashboard/etl/transform/fact_table.csv.gz\", compression=\"gzip\")\n",
    "summary_table = pd.read_csv(\"/Users/ericcollins/healthdashboard_data/etl/transform/summary_table.csv.gz\", compression=\"gzip\")"
   ]
  },
  {
   "cell_type": "code",
   "execution_count": null,
   "id": "32b14d89",
   "metadata": {},
   "outputs": [],
   "source": [
    "with psycopg2.connect(\n",
    "    dbname=\"applehealthdashboard\",\n",
    "    user=\"ericcollins\",\n",
    "    password=\"\","
   ]
  }
 ],
 "metadata": {
  "kernelspec": {
   "display_name": "applehealth",
   "language": "python",
   "name": "python3"
  },
  "language_info": {
   "codemirror_mode": {
    "name": "ipython",
    "version": 3
   },
   "file_extension": ".py",
   "mimetype": "text/x-python",
   "name": "python",
   "nbconvert_exporter": "python",
   "pygments_lexer": "ipython3",
   "version": "3.11.8"
  }
 },
 "nbformat": 4,
 "nbformat_minor": 5
}
